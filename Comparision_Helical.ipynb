{
 "cells": [
  {
   "cell_type": "code",
   "execution_count": null,
   "id": "37340be8",
   "metadata": {
    "scrolled": true
   },
   "outputs": [],
   "source": [
    "import numpy as np\n",
    "import pandas as pd\n",
    "import matplotlib.pyplot as plt\n",
    "from scipy.optimize import minimize\n",
    "from scipy.interpolate import BSpline\n",
    "import timeit\n",
    "\n",
    "from commons.utils import get_knots\n",
    "from commons.optimizer import single_cellGPS\n",
    "from commons.objFunc import objf3D"
   ]
  },
  {
   "cell_type": "code",
   "execution_count": null,
   "id": "d25bdad1",
   "metadata": {},
   "outputs": [],
   "source": [
    "def get_RMS(A, ground_truths, times, knots, k):\n",
    "    '''\n",
    "    reconstructs spline using A, k, and knots then calculate RMS distance between the ground truth trajectory\n",
    "    \n",
    "    A: array of control points\n",
    "    x, y, z: ground truth\n",
    "    times: np.linspace(start_time, end_time, Number of time points)\n",
    "    '''\n",
    "    x, y, z = ground_truths.reshape((3, -1))\n",
    "    A_x, A_y, A_z = A.reshape((3, -1))\n",
    "\n",
    "    spline_x = BSpline(knots, A_x, k)\n",
    "    spline_y = BSpline(knots, A_y, k)\n",
    "    spline_z = BSpline(knots, A_z, k)\n",
    "    predicted_x = spline_x(times)\n",
    "    predicted_y = spline_y(times)\n",
    "    predicted_z = spline_z(times)\n",
    "\n",
    "    MSE = ((predicted_x - x) ** 2 + (predicted_y - y) ** 2 + (predicted_z - z) ** 2).mean()\n",
    "\n",
    "    return np.sqrt(MSE)"
   ]
  },
  {
   "cell_type": "markdown",
   "id": "6c06c8c4",
   "metadata": {},
   "source": [
    "# Calculate ground truth trajectory for helical trajectory"
   ]
  },
  {
   "cell_type": "code",
   "execution_count": null,
   "id": "b4fa54d9",
   "metadata": {},
   "outputs": [],
   "source": [
    "eval_times = np.arange(0, 299951, 50)\n",
    "x = 2 * np.sin((eval_times/1000) * 6 * np.pi / 180)\n",
    "y = 2 * np.cos((eval_times/1000) * 6 * np.pi / 180)\n",
    "z = (eval_times/1000)*0.02 - 3\n",
    "ground_truths = np.vstack((x, y, z))"
   ]
  },
  {
   "cell_type": "markdown",
   "id": "9a9fb9b4",
   "metadata": {},
   "source": [
    "# Load data"
   ]
  },
  {
   "cell_type": "code",
   "execution_count": null,
   "id": "08b12775",
   "metadata": {},
   "outputs": [],
   "source": [
    "# Hyperparameter settings\n",
    "k = 3  # degree of spline\n",
    "lambda0 = 0.0025\n",
    "d_bar = 20  # average number of LoRs in one spline interval\n",
    "dmax1, dmax2 = 2.8, 0.6  # distance restrictions\n",
    "options = {'maxiter': 2000, 'disp': False}\n",
    "\n",
    "\n",
    "# Load data\n",
    "LORs_dir = 'data/Helical_100Bq300s.csv'\n",
    "LORs = np.genfromtxt(LORs_dir, delimiter=',')\n",
    "\n",
    "N = int(np.round(LORs.shape[0] / d_bar)) + 3  # Number of basis functions\n",
    "knots = get_knots(k , 0, 300000, N)\n",
    "P1, P2, times = LORs.T[0:3, :], LORs.T[4:7, :], LORs.T[3, :]\n",
    "a0 = np.zeros((3, N))"
   ]
  },
  {
   "cell_type": "markdown",
   "id": "98d2fe2d",
   "metadata": {},
   "source": [
    "# Compare the previous and current algorithm"
   ]
  },
  {
   "cell_type": "code",
   "execution_count": null,
   "id": "e332e2e6",
   "metadata": {
    "scrolled": true
   },
   "outputs": [],
   "source": [
    "# Backpropagation\n",
    "A = a0.copy()\n",
    "start_time = timeit.default_timer()\n",
    "A = single_cellGPS(A, LORs, N, k, knots, lambda0, dmax1, options=options)\n",
    "A = single_cellGPS(A, LORs, N, k, knots, lambda0, dmax2, options=options)\n",
    "print(f\"current algorithm reconstruction time: {timeit.default_timer() - start_time}\")\n",
    "\n",
    "# Numerical Gradient\n",
    "B = a0.copy()\n",
    "start_time = timeit.default_timer()\n",
    "result = minimize(lambda s: objf3D(k, s, knots, P1, P2, times, dmax1, lambda0), B, method='BFGS', options=options)\n",
    "B = result.x\n",
    "result = minimize(lambda s: objf3D(k, s, knots, P1, P2, times, dmax2, lambda0), B, method='BFGS', options=options)\n",
    "B = result.x\n",
    "print(f\"previous algorithm reconstruction time: {timeit.default_timer() - start_time}\")\n",
    "\n",
    "# Compare Accuracy\n",
    "print(f\"current algorithm RMS distance: {get_RMS(A, ground_truths, eval_times, knots, k)}\")\n",
    "print(f\"previous algorithm RMS distance: {get_RMS(B, ground_truths, eval_times, knots, k)}\")"
   ]
  },
  {
   "cell_type": "code",
   "execution_count": null,
   "id": "b971bb7f",
   "metadata": {},
   "outputs": [],
   "source": []
  }
 ],
 "metadata": {
  "kernelspec": {
   "display_name": "Python 3 (ipykernel)",
   "language": "python",
   "name": "python3"
  },
  "language_info": {
   "codemirror_mode": {
    "name": "ipython",
    "version": 3
   },
   "file_extension": ".py",
   "mimetype": "text/x-python",
   "name": "python",
   "nbconvert_exporter": "python",
   "pygments_lexer": "ipython3",
   "version": "3.10.11"
  }
 },
 "nbformat": 4,
 "nbformat_minor": 5
}
